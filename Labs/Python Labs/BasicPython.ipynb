{
 "cells": [
  {
   "cell_type": "code",
   "execution_count": 1,
   "id": "f0ae9546-f3d5-4633-a033-24d41d5a0070",
   "metadata": {},
   "outputs": [
    {
     "name": "stdout",
     "output_type": "stream",
     "text": [
      "Hello\n"
     ]
    }
   ],
   "source": [
    "print(\"Hello\")"
   ]
  },
  {
   "cell_type": "code",
   "execution_count": null,
   "id": "ce04a17a-e48a-43a3-9b00-5d687cccc6ab",
   "metadata": {},
   "outputs": [
    {
     "name": "stdout",
     "output_type": "stream",
     "text": [
      "Ali\n"
     ]
    }
   ],
   "source": [
    "name = \"Ali Akbar\"\n",
    "print(name) "
   ]
  },
  {
   "cell_type": "code",
   "execution_count": 1,
   "id": "85612f5c-9d65-420c-a19f-1df9a3ee08ce",
   "metadata": {},
   "outputs": [
    {
     "name": "stdout",
     "output_type": "stream",
     "text": [
      "2.5\n"
     ]
    }
   ],
   "source": [
    "print (25 / 10)"
   ]
  },
  {
   "cell_type": "code",
   "execution_count": 2,
   "id": "dee1a277-116e-4660-8ae0-98450d981b52",
   "metadata": {
    "scrolled": true
   },
   "outputs": [
    {
     "name": "stdout",
     "output_type": "stream",
     "text": [
      "2\n"
     ]
    }
   ],
   "source": [
    "print (25 // 10)"
   ]
  },
  {
   "cell_type": "code",
   "execution_count": 3,
   "id": "56fcc181-cc28-4dda-839c-4bf5e10bae0c",
   "metadata": {},
   "outputs": [
    {
     "name": "stdout",
     "output_type": "stream",
     "text": [
      "5\n"
     ]
    }
   ],
   "source": [
    "print (25 % 10)"
   ]
  },
  {
   "cell_type": "code",
   "execution_count": 13,
   "id": "68fe9464-78db-4475-829b-f7acc2d7bb0f",
   "metadata": {},
   "outputs": [
    {
     "name": "stdout",
     "output_type": "stream",
     "text": [
      "16\n"
     ]
    }
   ],
   "source": [
    "print (2 ** 4)"
   ]
  },
  {
   "cell_type": "code",
   "execution_count": 21,
   "id": "9fa28cfa-e591-4a59-a989-812edfe5a495",
   "metadata": {},
   "outputs": [
    {
     "name": "stdout",
     "output_type": "stream",
     "text": [
      "32\n"
     ]
    }
   ],
   "source": [
    "print (8 << 2)"
   ]
  },
  {
   "cell_type": "code",
   "execution_count": 10,
   "id": "9c484be4-0c2c-44a0-ba88-a31d31efe4c0",
   "metadata": {},
   "outputs": [
    {
     "name": "stdout",
     "output_type": "stream",
     "text": [
      "1 1\n",
      "1 2\n",
      "1 3\n",
      "1 4\n",
      "1 5\n"
     ]
    }
   ],
   "source": [
    "rows = 5\n",
    "cols = 4\n",
    "c = 1\n",
    "r = 1\n",
    "while c <= cols:\n",
    "    while r <= rows:\n",
    "        print(c,r)\n",
    "        r +=1\n",
    "    c += 1"
   ]
  },
  {
   "cell_type": "code",
   "execution_count": 11,
   "id": "8b1f02d1-5e91-4499-b4e7-82aef855f62d",
   "metadata": {},
   "outputs": [
    {
     "data": {
      "text/plain": [
       "1344953712144"
      ]
     },
     "execution_count": 11,
     "metadata": {},
     "output_type": "execute_result"
    }
   ],
   "source": [
    "month = \"May\"\n",
    "id(month)"
   ]
  },
  {
   "cell_type": "code",
   "execution_count": 13,
   "id": "591c6332-4479-44b4-b35d-7a354fd9c640",
   "metadata": {},
   "outputs": [
    {
     "name": "stdout",
     "output_type": "stream",
     "text": [
      "25 68.5\n"
     ]
    }
   ],
   "source": [
    "age = int(25)\n",
    "weight = float(68.5)\n",
    "print(age, weight)"
   ]
  },
  {
   "cell_type": "code",
   "execution_count": 14,
   "id": "b4cc3d16-80a3-466a-ba77-045721675d35",
   "metadata": {},
   "outputs": [
    {
     "name": "stdout",
     "output_type": "stream",
     "text": [
      "15\n"
     ]
    }
   ],
   "source": [
    "def sum(x,y):\n",
    "    sum = x + y\n",
    "    return sum\n",
    "\n",
    "print(sum(5, 10))"
   ]
  },
  {
   "cell_type": "code",
   "execution_count": null,
   "id": "428195aa-d047-4a1d-b7ce-d0b7b95064b6",
   "metadata": {},
   "outputs": [],
   "source": []
  }
 ],
 "metadata": {
  "kernelspec": {
   "display_name": "Python 3 (ipykernel)",
   "language": "python",
   "name": "python3"
  },
  "language_info": {
   "codemirror_mode": {
    "name": "ipython",
    "version": 3
   },
   "file_extension": ".py",
   "mimetype": "text/x-python",
   "name": "python",
   "nbconvert_exporter": "python",
   "pygments_lexer": "ipython3",
   "version": "3.9.0"
  }
 },
 "nbformat": 4,
 "nbformat_minor": 5
}
