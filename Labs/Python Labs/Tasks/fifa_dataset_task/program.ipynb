{
 "cells": [
  {
   "cell_type": "code",
   "execution_count": 59,
   "metadata": {},
   "outputs": [],
   "source": [
    "import pandas as pd"
   ]
  },
  {
   "cell_type": "code",
   "execution_count": 60,
   "metadata": {},
   "outputs": [
    {
     "name": "stderr",
     "output_type": "stream",
     "text": [
      "C:\\Users\\HP\\AppData\\Local\\Temp\\ipykernel_17416\\3415814985.py:2: DtypeWarning: Columns (76) have mixed types. Specify dtype option on import or set low_memory=False.\n",
      "  df = pd.read_csv(path)\n"
     ]
    }
   ],
   "source": [
    "path = 'fifa21_raw_data.csv'\n",
    "df = pd.read_csv(path)"
   ]
  },
  {
   "cell_type": "code",
   "execution_count": 61,
   "metadata": {},
   "outputs": [
    {
     "name": "stdout",
     "output_type": "stream",
     "text": [
      "Loan Date End       17966\n",
      "photoUrl                0\n",
      "GK Diving               0\n",
      "Sliding Tackle          0\n",
      "Standing Tackle         0\n",
      "                    ...  \n",
      "Heading Accuracy        0\n",
      "Finishing               0\n",
      "Crossing                0\n",
      "Attacking               0\n",
      "Hits                    0\n",
      "Length: 77, dtype: int64\n",
      "count             1013\n",
      "unique              24\n",
      "top       Jun 30, 2021\n",
      "freq               770\n",
      "Name: Loan Date End, dtype: object\n",
      "photoUrl            0\n",
      "Positioning         0\n",
      "Sliding Tackle      0\n",
      "Standing Tackle     0\n",
      "Marking             0\n",
      "                   ..\n",
      "Heading Accuracy    0\n",
      "Finishing           0\n",
      "Crossing            0\n",
      "Attacking           0\n",
      "Hits                0\n",
      "Length: 77, dtype: int64\n"
     ]
    }
   ],
   "source": [
    "# Check for missing values\n",
    "print(df.isna().sum().sort_values(ascending=False))\n",
    "# Analyze column to decide utilizing mean or mode for filling in missing values\n",
    "print(df['Loan Date End'].describe())\n",
    "# as column is not numerical mode will be utilized for missing values\n",
    "df['Loan Date End'] = df['Loan Date End'].fillna(df['Loan Date End'].mode()[0])\n",
    "print(df.isna().sum().sort_values(ascending=False))"
   ]
  },
  {
   "cell_type": "code",
   "execution_count": 62,
   "metadata": {},
   "outputs": [],
   "source": [
    "# df.info()\n",
    "# df.head(10)\n",
    "# df.describe()"
   ]
  },
  {
   "cell_type": "code",
   "execution_count": 63,
   "metadata": {},
   "outputs": [],
   "source": [
    "#Transform \"Value\" column to appropriate type\n",
    "if(df['Value'].dtype == object):\n",
    "    i = 0\n",
    "    values = []\n",
    "    for value in df['Value']:\n",
    "    #print(\"before:\",value)\n",
    "        # remove currency symbol\n",
    "        value = value.replace(\"€\", \"\")\n",
    "        # remove K symbol and multiply with 1000\n",
    "        if(value.find(\"K\")>=0):\n",
    "            value = value.replace(\"K\", \"\")\n",
    "            value = float(value)\n",
    "            value = value * 1000\n",
    "            value = int(value)\n",
    "            #print(\"after K:\",value)\n",
    "            values.append(value)\n",
    "            #df['Value'][i] = value\n",
    "            i += 1\n",
    "        # remove M symbol and multiply with 1000000\n",
    "        elif(value.find(\"M\")>=0):\n",
    "            value = value.replace(\"M\", \"\")\n",
    "            value = float(value)\n",
    "            value = value * 1000000\n",
    "            value = int(value)\n",
    "            #print(\"after M:\",value)\n",
    "            values.append(value)\n",
    "            #df['Value'][i] = value\n",
    "            i += 1\n",
    "        else:\n",
    "            values.append(value)\n",
    "    # assign integer values to dataset column 'Value'\n",
    "    df['Value'] = values\n",
    "    i = 0\n",
    "    values = []\n",
    "    # change dtype of 'Value' to int\n",
    "    df['Value'] = df['Value'].astype(int)\n",
    "    #print(df['Value'])\n",
    "else:\n",
    "    pass\n",
    "    #print(df['Value'])"
   ]
  },
  {
   "cell_type": "code",
   "execution_count": 64,
   "metadata": {},
   "outputs": [],
   "source": [
    "#Transform \"Wage\" column to appropriate type\n",
    "if(df['Wage'].dtype == object):\n",
    "    i = 0\n",
    "    values = []\n",
    "    for value in df['Wage']:\n",
    "    #print(\"before:\",value)\n",
    "        # remove currency symbol\n",
    "        value = value.replace(\"€\", \"\")\n",
    "        # remove K symbol and multiply with 1000\n",
    "        if(value.find(\"K\")>=0):\n",
    "            value = value.replace(\"K\", \"\")\n",
    "            value = float(value)\n",
    "            value = value * 1000\n",
    "            value = int(value)\n",
    "            #print(\"after K:\",value)\n",
    "            values.append(value)\n",
    "            #df['Value'][i] = value\n",
    "            i += 1\n",
    "        # remove M symbol and multiply with 1000000\n",
    "        elif(value.find(\"M\")>=0):\n",
    "            value = value.replace(\"M\", \"\")\n",
    "            value = float(value)\n",
    "            value = value * 1000000\n",
    "            value = int(value)\n",
    "            #print(\"after M:\",value)\n",
    "            values.append(value)\n",
    "            #df['Value'][i] = value\n",
    "            i += 1\n",
    "        else:\n",
    "            values.append(value)\n",
    "    # assign integer values to dataset column 'Value'\n",
    "    df['Wage'] = values\n",
    "    i = 0\n",
    "    values = []\n",
    "    # change dtype of 'Value' to int\n",
    "    df['Wage'] = df['Wage'].astype(int)\n",
    "    #print(df['Wage'])\n",
    "else:\n",
    "    pass\n",
    "    #print(df['Wage'])"
   ]
  },
  {
   "cell_type": "code",
   "execution_count": 65,
   "metadata": {},
   "outputs": [],
   "source": [
    "#Transform \"Release Clause\" column to appropriate type\n",
    "if(df['Release Clause'].dtype == object):\n",
    "    i = 0\n",
    "    values = []\n",
    "    for value in df['Release Clause']:\n",
    "    #print(\"before:\",value)\n",
    "        # remove currency symbol\n",
    "        value = value.replace(\"€\", \"\")\n",
    "        # remove K symbol and multiply with 1000\n",
    "        if(value.find(\"K\")>=0):\n",
    "            value = value.replace(\"K\", \"\")\n",
    "            value = float(value)\n",
    "            value = value * 1000\n",
    "            value = int(value)\n",
    "            #print(\"after K:\",value)\n",
    "            values.append(value)\n",
    "            #df['Value'][i] = value\n",
    "            i += 1\n",
    "        # remove M symbol and multiply with 1000000\n",
    "        elif(value.find(\"M\")>=0):\n",
    "            value = value.replace(\"M\", \"\")\n",
    "            value = float(value)\n",
    "            value = value * 1000000\n",
    "            value = int(value)\n",
    "            #print(\"after M:\",value)\n",
    "            values.append(value)\n",
    "            #df['Value'][i] = value\n",
    "            i += 1\n",
    "        else:\n",
    "            values.append(value)\n",
    "    # assign integer values to dataset column 'Value'\n",
    "    df['Release Clause'] = values\n",
    "    i = 0\n",
    "    values = []\n",
    "    # change dtype of 'Release Clause' to int\n",
    "    df['Release Clause'] = df['Release Clause'].astype(int)\n",
    "    #print(df['Release Clause'])\n",
    "else:\n",
    "    pass\n",
    "    #print(df['Release Clause'])"
   ]
  },
  {
   "cell_type": "code",
   "execution_count": 66,
   "metadata": {},
   "outputs": [],
   "source": [
    "# remove extra lines from 'Team & Contract' column\n",
    "df['Team & Contract'] = df['Team & Contract'].apply(lambda x: x.replace('\\n\\n',''))\n",
    "df['Team & Contract'] = df['Team & Contract'].apply(lambda x: x.strip())\n"
   ]
  },
  {
   "cell_type": "code",
   "execution_count": 67,
   "metadata": {},
   "outputs": [],
   "source": [
    "# convert height to centimeters\n",
    "def convert(strin):\n",
    "    feet = int((strin[0:1]))\n",
    "    inches = int((strin[2:-1]))\n",
    "    return ((feet*12)+inches)*2.54\n",
    "df['Height'] = df['Height'].apply(lambda x: convert(x))\n"
   ]
  },
  {
   "cell_type": "code",
   "execution_count": 68,
   "metadata": {},
   "outputs": [],
   "source": [
    "# convert weight to pounds\n",
    "def convert(strin):\n",
    "    pounds =  float((strin[0:-3]))\n",
    "    return pounds * 0.453592\n",
    "df['Weight'] = df['Weight'].apply(lambda x: convert(x))"
   ]
  },
  {
   "cell_type": "code",
   "execution_count": 69,
   "metadata": {},
   "outputs": [],
   "source": [
    "#save clean file for analysis\n",
    "df.to_csv('clean.csv')"
   ]
  },
  {
   "cell_type": "code",
   "execution_count": null,
   "metadata": {},
   "outputs": [],
   "source": []
  }
 ],
 "metadata": {
  "kernelspec": {
   "display_name": "api_lesson",
   "language": "python",
   "name": "python3"
  },
  "language_info": {
   "codemirror_mode": {
    "name": "ipython",
    "version": 3
   },
   "file_extension": ".py",
   "mimetype": "text/x-python",
   "name": "python",
   "nbconvert_exporter": "python",
   "pygments_lexer": "ipython3",
   "version": "3.9.19"
  }
 },
 "nbformat": 4,
 "nbformat_minor": 2
}
