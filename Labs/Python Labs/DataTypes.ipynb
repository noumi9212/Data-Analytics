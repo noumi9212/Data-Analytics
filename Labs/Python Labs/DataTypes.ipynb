{
 "cells": [
  {
   "cell_type": "code",
   "execution_count": 11,
   "id": "69bc1d01-e7da-490d-b99a-660f3b7aa117",
   "metadata": {},
   "outputs": [
    {
     "name": "stdout",
     "output_type": "stream",
     "text": [
      "bookName: <class 'str'>\n",
      "bookCategory: <class 'str'>\n",
      "publishedYear: <class 'int'>\n",
      "publishedMonth: <class 'int'>\n",
      "publishedDate: <class 'int'>\n",
      "bookAuthor: <class 'str'>\n",
      "bookPrice: <class 'float'>\n",
      "bookPublisher: <class 'str'>\n",
      "bookRating: <class 'float'>\n",
      "bookReviews: <class 'int'>\n",
      "bookPages: <class 'int'>\n",
      "inStock: <class 'bool'>\n",
      "deliveryTime: <class 'int'>\n",
      "bookGenres: <class 'list'>\n",
      "bookEditions: <class 'tuple'>\n",
      "bookKeywords: <class 'set'>\n"
     ]
    }
   ],
   "source": [
    "bookName = \"The Great Gatsby\"\n",
    "publishedYear = 1925\n",
    "publishedMonth = 4\n",
    "publishedDate = 10\n",
    "bookAuthor = \"F. Scott Fitzgerald\"\n",
    "bookPrice = 500.50\n",
    "bookPublisher = \"EveryBook\"\n",
    "bookRating = 4.5\n",
    "bookReviews = 17200\n",
    "bookPages = 180\n",
    "inStock = False\n",
    "deliveryTime = 15\n",
    "bookCategory = \"Novel\"\n",
    "bookGenres = [\"History\", \"Action\", \"Mystery\"]\n",
    "bookEditions = (2005, 2006, 2007)\n",
    "bookKeywords = {\"Gatsby\", \"History Novels\", \"Top Novels\"}\n",
    "\n",
    "print(\"bookName:\", type(bookName))\n",
    "print(\"bookCategory:\", type(bookCategory))\n",
    "print(\"publishedYear:\", type(publishedYear))\n",
    "print(\"publishedMonth:\", type(publishedMonth))\n",
    "print(\"publishedDate:\", type(publishedDate))\n",
    "print(\"bookAuthor:\", type(bookAuthor))\n",
    "print(\"bookPrice:\", type(bookPrice))\n",
    "print(\"bookPublisher:\", type(bookPublisher))\n",
    "print(\"bookRating:\", type(bookRating))\n",
    "print(\"bookReviews:\", type(bookReviews))\n",
    "print(\"bookPages:\", type(bookPages))\n",
    "print(\"inStock:\", type(inStock))\n",
    "print(\"deliveryTime:\", type(deliveryTime))\n",
    "print(\"bookGenres:\", type(bookGenres))\n",
    "print(\"bookEditions:\", type(bookEditions))\n",
    "print(\"bookKeywords:\", type(bookKeywords))"
   ]
  },
  {
   "cell_type": "code",
   "execution_count": 19,
   "id": "3142ac37-4063-4640-9724-cc5224663010",
   "metadata": {},
   "outputs": [
    {
     "name": "stdout",
     "output_type": "stream",
     "text": [
      "Num1:  3 <class 'int'>\n",
      "Num2:  13 <class 'int'>\n",
      "Addition:  3 + 13 = 16  Type:  <class 'int'>\n",
      "subtraction:  3 - 13 = -10  Type:  <class 'int'>\n",
      "multiplication:  3 * 13 = 39  Type:  <class 'int'>\n",
      "division:  3 + 13 = 0.23076923076923078  Type:  <class 'float'>\n",
      "modoluDivision:  3 + 13 = 3  Type:  <class 'int'>\n",
      "integerDivision:  3 + 13 = 0  Type:  <class 'int'>\n"
     ]
    }
   ],
   "source": [
    "num1 = 3\n",
    "num2 = 13\n",
    "addition = num1 + num2\n",
    "subtraction = num1 - num2\n",
    "multiplication = num1 * num2\n",
    "division = num1 / num2\n",
    "modoluDivision = num1 % num2\n",
    "integerDivision = num1 // num2\n",
    "\n",
    "print(\"Num1: \", num1, type(num1))\n",
    "print(\"Num2: \", num2, type(num2))\n",
    "print(\"Addition: \", num1, \"+\", num2, \"=\", addition, \" Type: \", type(addition))\n",
    "print(\"subtraction: \", num1, \"-\", num2, \"=\", subtraction, \" Type: \", type(subtraction))\n",
    "print(\"multiplication: \", num1, \"*\", num2, \"=\", multiplication, \" Type: \", type(multiplication))\n",
    "print(\"division: \", num1, \"+\", num2, \"=\", division, \" Type: \", type(division))\n",
    "print(\"modoluDivision: \", num1, \"+\", num2, \"=\", modoluDivision, \" Type: \", type(modoluDivision))\n",
    "print(\"integerDivision: \", num1, \"+\", num2, \"=\", integerDivision, \" Type: \", type(integerDivision))\n"
   ]
  },
  {
   "cell_type": "code",
   "execution_count": null,
   "id": "3dbf61b0-d03b-463e-9b98-66a4d55e2957",
   "metadata": {},
   "outputs": [],
   "source": []
  }
 ],
 "metadata": {
  "kernelspec": {
   "display_name": "Python 3 (ipykernel)",
   "language": "python",
   "name": "python3"
  },
  "language_info": {
   "codemirror_mode": {
    "name": "ipython",
    "version": 3
   },
   "file_extension": ".py",
   "mimetype": "text/x-python",
   "name": "python",
   "nbconvert_exporter": "python",
   "pygments_lexer": "ipython3",
   "version": "3.12.3"
  }
 },
 "nbformat": 4,
 "nbformat_minor": 5
}
