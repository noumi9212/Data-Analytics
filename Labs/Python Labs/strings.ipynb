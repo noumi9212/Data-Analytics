{
 "cells": [
  {
   "cell_type": "code",
   "execution_count": 36,
   "id": "4bbcfd43-2b37-4452-a8a4-c6e85654ebcd",
   "metadata": {},
   "outputs": [
    {
     "name": "stdout",
     "output_type": "stream",
     "text": [
      "<class 'str'>\n",
      "str.upper()\n",
      "CANDY JAR MADE OF PREMIUM WOOD. WOOD CRAFTS\n",
      "str.lower()\n",
      "candy jar made of premium wood. wood crafts\n",
      "str.casefold()\n",
      "candy jar made of premium wood. wood crafts\n",
      "str.title()\n",
      "Candy Jar Made Of Premium Wood. Wood Crafts\n",
      "str.capitalize()\n",
      "Candy jar made of premium wood. wood crafts\n",
      "str.replace()\n",
      "Candy_JAr_made_of_premium_Wood._Wood_Crafts\n",
      "str.center()\n",
      "***Candy JAr made of premium Wood. Wood Crafts****\n",
      "str.endswith()\n",
      "False\n",
      "str.find()\n",
      "-1\n",
      "str.lstrip()\n",
      " JAr made of premium Wood. Wood Crafts\n",
      "str.rstrip()\n",
      "Candy JAr made of premium Wood. Wood Crafts\n",
      "str.count()\n",
      "2\n",
      "str.format()\n",
      "Data Analytics is the Great course. It is listed as TOP demanded\n",
      "the forum had Rs1.220000 trillion development budget with 2.33 per cent growth target\n",
      "str.zfill()\n",
      "0000000000000000000000000000000000000Candy JAr made of premium Wood. Wood Crafts\n",
      "str.split()\n",
      "['Candy JAr made of premium Wood. Wood Crafts']\n"
     ]
    }
   ],
   "source": [
    "productName = \"Candy JAr made of premium Wood. Wood Crafts\"\n",
    "print(type(productName))\n",
    "print(\"str.upper()\")\n",
    "print(productName.upper())\n",
    "print(\"str.lower()\")\n",
    "print(productName.lower())\n",
    "print(\"str.casefold()\")\n",
    "print(productName.casefold())\n",
    "print(\"str.title()\")\n",
    "print(productName.title())\n",
    "print(\"str.capitalize()\")\n",
    "print(productName.capitalize())\n",
    "print(\"str.replace()\")\n",
    "print(productName.replace(\" \", \"_\"))\n",
    "print(\"str.center()\")\n",
    "print(productName.center(50, \"*\"))\n",
    "print(\"str.endswith()\")\n",
    "print(productName.endswith(\"Wood\"))\n",
    "print(\"str.find()\")\n",
    "print(productName.find(\"Jar\"))\n",
    "print(\"str.lstrip()\")\n",
    "print(productName.lstrip(\"Candy\"))\n",
    "print(\"str.rstrip()\")\n",
    "print(productName.rstrip(\"Wood\"))\n",
    "print(\"str.count()\")\n",
    "print(productName.count(\"Wood\"))\n",
    "print(\"str.format()\")\n",
    "print(\"Data Analytics is the {0} course. It is listed as {1} demanded\".format(\"Great\", \"TOP\"))\n",
    "print(\"the forum had Rs{:f} trillion development budget with {gdp} per cent growth target\".format(1.22, gdp=2.33))\n",
    "print(\"str.zfill()\")\n",
    "print(productName.zfill(80))\n",
    "print(\"str.split()\")\n",
    "print(productName.split(':'))"
   ]
  },
  {
   "cell_type": "code",
   "execution_count": null,
   "id": "45c4c82b-3225-4dcf-9a23-5700c0fe3bf1",
   "metadata": {},
   "outputs": [],
   "source": []
  }
 ],
 "metadata": {
  "kernelspec": {
   "display_name": "Python 3 (ipykernel)",
   "language": "python",
   "name": "python3"
  },
  "language_info": {
   "codemirror_mode": {
    "name": "ipython",
    "version": 3
   },
   "file_extension": ".py",
   "mimetype": "text/x-python",
   "name": "python",
   "nbconvert_exporter": "python",
   "pygments_lexer": "ipython3",
   "version": "3.11.5"
  }
 },
 "nbformat": 4,
 "nbformat_minor": 5
}
