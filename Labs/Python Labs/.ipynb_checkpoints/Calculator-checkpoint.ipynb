{
 "cells": [
  {
   "cell_type": "code",
   "execution_count": 1,
   "id": "e4c70baa-522b-4e62-b8c5-d45afb5bc5b5",
   "metadata": {},
   "outputs": [
    {
     "name": "stdin",
     "output_type": "stream",
     "text": [
      "Enter 1 for calculator, anything else for exit 5\n"
     ]
    },
    {
     "name": "stdout",
     "output_type": "stream",
     "text": [
      "Goodbye!!!\n"
     ]
    }
   ],
   "source": [
    "def calculator_basic():\n",
    "    num1 = float(input(\"Enter first number: \"))\n",
    "    num2 = float(input(\"Enter second number: \"))\n",
    "    operation = input(\"Enter Operator: (+, -, *, /, //, %, **)\")\n",
    "\n",
    "    if operation == \"+\":\n",
    "        result = num1 + num2\n",
    "        print(\"The result of\", num1, operation , num2, \" = \", result)\n",
    "        menu()\n",
    "    elif operation == \"-\":\n",
    "        result = num1 - num2\n",
    "        print(\"The result of\", num1, operation , num2, \" = \", result)\n",
    "        menu()\n",
    "    elif operation == \"*\":\n",
    "        result = num1 * num2\n",
    "        print(\"The result of\", num1, operation , num2, \" = \", result)\n",
    "        menu()\n",
    "    elif operation == \"/\":\n",
    "        if num2 != 0:\n",
    "            result = num1 / num2\n",
    "            print(\"The result of\", num1, operation , num2, \" = \", result)\n",
    "            menu()\n",
    "        else:\n",
    "            print(\"Division by 0 not allowed\")\n",
    "            menu()\n",
    "    elif operation == \"//\":\n",
    "        result = num1 // num2\n",
    "        print(\"The result of\", num1, operation , num2, \" = \", result)\n",
    "        menu()\n",
    "    elif operation == \"%\":\n",
    "        result = num1 % num2\n",
    "        print(\"The result of\", num1, operation , num2, \" = \", result)\n",
    "        menu()\n",
    "    elif operation == \"**\":\n",
    "        result = num1 ** num2\n",
    "        print(\"The result of\", num1, operation , num2, \" = \", result)\n",
    "        menu()\n",
    "    else:\n",
    "        print(\"Invalid Operator\")\n",
    "        menu()\n",
    "def menu():\n",
    "    choice = int(input(\"Enter 1 for calculator, anything else for exit\"))\n",
    "    if choice == 1:\n",
    "        calculator_basic()\n",
    "    else:\n",
    "        print(\"Goodbye!!!\")\n",
    "        quit()\n",
    "menu()"
   ]
  },
  {
   "cell_type": "code",
   "execution_count": 14,
   "id": "4d737e89-c625-47b9-9b79-d65255d0e57a",
   "metadata": {},
   "outputs": [
    {
     "name": "stdout",
     "output_type": "stream",
     "text": [
      "Hello 1 \tHello 2 \tHello 3 \tHello 4 \tHello 5 \tHello 6 \tHello 7 \tHello 8 \tHello 9 \t"
     ]
    }
   ],
   "source": [
    "num = 10\n",
    "i = 1\n",
    "while i < num:\n",
    "    print(f'Hello {i}', end=\" \\t\")\n",
    "    i += 1"
   ]
  },
  {
   "cell_type": "code",
   "execution_count": null,
   "id": "a2d2dd5b-7a60-4c28-b204-617d4bf31d71",
   "metadata": {},
   "outputs": [],
   "source": []
  }
 ],
 "metadata": {
  "kernelspec": {
   "display_name": "Python 3 (ipykernel)",
   "language": "python",
   "name": "python3"
  },
  "language_info": {
   "codemirror_mode": {
    "name": "ipython",
    "version": 3
   },
   "file_extension": ".py",
   "mimetype": "text/x-python",
   "name": "python",
   "nbconvert_exporter": "python",
   "pygments_lexer": "ipython3",
   "version": "3.11.5"
  }
 },
 "nbformat": 4,
 "nbformat_minor": 5
}
