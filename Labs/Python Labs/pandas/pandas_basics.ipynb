{
 "cells": [
  {
   "cell_type": "code",
   "execution_count": 2,
   "id": "8806531f-9a3e-431d-8011-5b1f46eb70eb",
   "metadata": {},
   "outputs": [],
   "source": [
    "import pandas as pd\n",
    "import csv"
   ]
  },
  {
   "cell_type": "code",
   "execution_count": 3,
   "id": "76db00e3-a0fb-47f9-a9f8-87c602be47aa",
   "metadata": {},
   "outputs": [],
   "source": [
    "data = [\n",
    "    [\"id\",\"name\",\"age\",\"salary\"],\n",
    "    [1,\"Ali\",25,25000],\n",
    "    [2,\"Naveed\",24,None],\n",
    "    [3,\"Nadir\",32,35000],\n",
    "    [4,\"Kabeer\",None,15000],\n",
    "    [5,\"Shazia\",27,45000],\n",
    "    [6,\"Hasan\",29,55000],\n",
    "    [7,\"Qasim\",28,43000],\n",
    "    [8,\"Rehana\",28,650000],\n",
    "    [9,\"Qadeer\",30,25000],\n",
    "    [10,\"Rabia\",32,25000],\n",
    "    [2,\"Naveed\",24,None],\n",
    "]"
   ]
  },
  {
   "cell_type": "code",
   "execution_count": 5,
   "id": "fb4223c3-8ddb-4f95-af82-e389ad833a02",
   "metadata": {},
   "outputs": [],
   "source": [
    "with open('dataset.csv',mode='w',newline='') as file:\n",
    "    writer = csv.writer(file)\n",
    "    writer.writerows(data)"
   ]
  },
  {
   "cell_type": "code",
   "execution_count": 6,
   "id": "23c936f2-023e-4465-9ae8-8d2a0653148c",
   "metadata": {},
   "outputs": [],
   "source": [
    "data = []"
   ]
  },
  {
   "cell_type": "code",
   "execution_count": 7,
   "id": "22ec5672-8fae-4c31-958d-e9511a463a75",
   "metadata": {},
   "outputs": [],
   "source": [
    "with open('dataset.csv',mode='r') as file:\n",
    "    reader = csv.reader(file)\n",
    "    for row in reader:\n",
    "        data.append(row)"
   ]
  },
  {
   "cell_type": "code",
   "execution_count": 8,
   "id": "4e6915c1-ffdf-4bbd-8ebf-20a7f561dcb3",
   "metadata": {},
   "outputs": [],
   "source": [
    "cols = data[0]\n",
    "rows = data[1:]\n",
    "df = pd.DataFrame(rows, columns=cols)"
   ]
  },
  {
   "cell_type": "code",
   "execution_count": 9,
   "id": "8b81441c-a8e4-41c5-8009-c4fe96755ed1",
   "metadata": {},
   "outputs": [],
   "source": [
    "df['id'] = pd.to_numeric(df['id'])\n",
    "df['age'] = pd.to_numeric(df['age'])\n",
    "df['salary'] = pd.to_numeric(df['salary'])"
   ]
  },
  {
   "cell_type": "code",
   "execution_count": 10,
   "id": "22e9e871-53f1-4e28-9b96-c9828379f99f",
   "metadata": {},
   "outputs": [],
   "source": [
    "#remove duplicates\n",
    "df = df.drop_duplicates()"
   ]
  },
  {
   "cell_type": "code",
   "execution_count": 11,
   "id": "34eaf0f3-d7d3-4c48-b6a0-c0abf4275f07",
   "metadata": {},
   "outputs": [],
   "source": [
    "df['age'] = df['age'].fillna(df['age'].mean())\n",
    "df['salary'] = df['salary'].fillna(df['salary'].median())"
   ]
  },
  {
   "cell_type": "code",
   "execution_count": 12,
   "id": "2be575d5-bf11-4d71-b6a5-8ca144281a4c",
   "metadata": {},
   "outputs": [],
   "source": [
    "#Handle outliers\n",
    "Q1 = df['salary'].quantile(0.25)\n",
    "Q3 = df['salary'].quantile(0.75)\n",
    "IQR = Q3 - Q1\n",
    "lower_bound = Q1 - 1.5 * IQR\n",
    "upper_bound = Q3 + 1.5 * IQR"
   ]
  },
  {
   "cell_type": "code",
   "execution_count": 14,
   "id": "25dfec43-3684-4599-9137-a57de0c25e2d",
   "metadata": {},
   "outputs": [],
   "source": [
    "median_salary = df['salary'].median()\n",
    "df.loc[(df['salary'] < lower_bound) | (df['salary'] > lower_bound), 'salary'] = median_salary"
   ]
  },
  {
   "cell_type": "code",
   "execution_count": 15,
   "id": "b1eddb88-c9f6-4084-b595-dd91bb77d8bf",
   "metadata": {},
   "outputs": [
    {
     "name": "stdout",
     "output_type": "stream",
     "text": [
      "   id    name        age   salary\n",
      "0   1     Ali  25.000000  35000.0\n",
      "1   2  Naveed  24.000000  35000.0\n",
      "2   3   Nadir  32.000000  35000.0\n",
      "3   4  Kabeer  28.333333  35000.0\n",
      "4   5  Shazia  27.000000  35000.0\n",
      "5   6   Hasan  29.000000  35000.0\n",
      "6   7   Qasim  28.000000  35000.0\n",
      "7   8  Rehana  28.000000  35000.0\n",
      "8   9  Qadeer  30.000000  35000.0\n",
      "9  10   Rabia  32.000000  35000.0\n"
     ]
    }
   ],
   "source": [
    "print(df)"
   ]
  },
  {
   "cell_type": "code",
   "execution_count": 18,
   "id": "a06d6597-ddac-402a-b415-d37e747ffdbe",
   "metadata": {},
   "outputs": [],
   "source": [
    "with open('clean_dataset.csv',mode='w',newline='') as file:\n",
    "    writer = csv.writer(file)\n",
    "    writer.writerows(df.to_numpy())"
   ]
  },
  {
   "cell_type": "code",
   "execution_count": null,
   "id": "d4d9f3f1-0838-476c-89a9-a8d3904d3444",
   "metadata": {},
   "outputs": [],
   "source": []
  }
 ],
 "metadata": {
  "kernelspec": {
   "display_name": "Python 3 (ipykernel)",
   "language": "python",
   "name": "python3"
  },
  "language_info": {
   "codemirror_mode": {
    "name": "ipython",
    "version": 3
   },
   "file_extension": ".py",
   "mimetype": "text/x-python",
   "name": "python",
   "nbconvert_exporter": "python",
   "pygments_lexer": "ipython3",
   "version": "3.12.3"
  }
 },
 "nbformat": 4,
 "nbformat_minor": 5
}
