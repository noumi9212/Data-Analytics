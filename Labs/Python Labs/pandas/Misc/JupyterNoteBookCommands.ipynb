{
 "cells": [
  {
   "cell_type": "markdown",
   "id": "a326769e",
   "metadata": {},
   "source": [
    "### Python Lists"
   ]
  },
  {
   "cell_type": "markdown",
   "id": "b5dedb21",
   "metadata": {},
   "source": [
    "Python Lists starts with **0** index"
   ]
  },
  {
   "cell_type": "code",
   "execution_count": 9,
   "id": "a6445b63",
   "metadata": {},
   "outputs": [],
   "source": [
    "myList = [1,2,3,4,5]"
   ]
  },
  {
   "cell_type": "code",
   "execution_count": 10,
   "id": "783ad5c3",
   "metadata": {},
   "outputs": [
    {
     "name": "stdout",
     "output_type": "stream",
     "text": [
      "myList has type: <class 'list'> and it has 5 elements\n"
     ]
    }
   ],
   "source": [
    "print(f\"myList has type: {type(myList)} and it has {len(myList)} elements\")"
   ]
  },
  {
   "cell_type": "code",
   "execution_count": null,
   "id": "ec5757af",
   "metadata": {},
   "outputs": [],
   "source": []
  }
 ],
 "metadata": {
  "kernelspec": {
   "display_name": "Python 3 (ipykernel)",
   "language": "python",
   "name": "python3"
  },
  "language_info": {
   "codemirror_mode": {
    "name": "ipython",
    "version": 3
   },
   "file_extension": ".py",
   "mimetype": "text/x-python",
   "name": "python",
   "nbconvert_exporter": "python",
   "pygments_lexer": "ipython3",
   "version": "3.11.5"
  }
 },
 "nbformat": 4,
 "nbformat_minor": 5
}
