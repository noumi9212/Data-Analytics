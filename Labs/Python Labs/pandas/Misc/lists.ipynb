{
 "cells": [
  {
   "cell_type": "code",
   "execution_count": 19,
   "id": "fa665d20-1eac-47d5-849f-ca6161f5463e",
   "metadata": {},
   "outputs": [
    {
     "name": "stdout",
     "output_type": "stream",
     "text": [
      "<class 'set'>\n",
      "{'Ali', 'Naveed', 'Bashir', 'Kamran'}\n"
     ]
    }
   ],
   "source": [
    "studentsSet = {\"Ali\", \"Kamran\", \"Bashir\", \"Naveed\"}\n",
    "print(type(studentsSet))\n",
    "print(studentsSet)"
   ]
  },
  {
   "cell_type": "code",
   "execution_count": 39,
   "id": "30733f35-4b3f-42b5-8da5-4fd37ae91426",
   "metadata": {},
   "outputs": [
    {
     "name": "stdout",
     "output_type": "stream",
     "text": [
      "<class 'list'>\n",
      "['Ali', 'Kamran', 'Bashir', 'Naveed', 'Raheel', 'Zahid', 'Adil']\n",
      "['Ali', 'Bashir', 'Naveed', 'Raheel', 'Zahid', 'Adil']\n",
      "Size of studentsList: 6: \n",
      "******************Sorting Arrays******************\n",
      "['Adil', 'Ali', 'Bashir', 'Naveed', 'Raheel', 'Zahid']\n"
     ]
    }
   ],
   "source": [
    "studentsList = [\"Ali\", \"Kamran\", \"Bashir\", \"Naveed\", \"Raheel\", \"Zahid\", \"Adil\"]\n",
    "print(type(studentsList))\n",
    "print(studentsList)\n",
    "studentsList.append(\"Javed\")\n",
    "print(studentsList)\n",
    "studentsList.remove(\"Kamran\")\n",
    "print(studentsList)\n",
    "print(f\"Size of studentsList: {len(studentsList)}: \")\n",
    "#sorting arrays\n",
    "print(\"Sorting Arrays\".center(50, \"*\"))\n",
    "studentsList.sort()\n",
    "print(studentsList)\n"
   ]
  },
  {
   "cell_type": "code",
   "execution_count": 43,
   "id": "e5c16467-b2e7-4cb3-93a3-e3b2ad032c3a",
   "metadata": {},
   "outputs": [
    {
     "name": "stdout",
     "output_type": "stream",
     "text": [
      "*****************Extending Arrays*****************\n",
      "['Ali', 'Kamran', 'Bashir', 'Naveed', 'Raheel', 'Zahid', 'Adil']\n"
     ]
    },
    {
     "name": "stdin",
     "output_type": "stream",
     "text": [
      "Enter multiple comma-seperated items to be added in the list ali, naveed\n"
     ]
    },
    {
     "name": "stdout",
     "output_type": "stream",
     "text": [
      "List after extending\n",
      " ['Ali', 'Kamran', 'Bashir', 'Naveed', 'Raheel', 'Zahid', 'Adil', ['ali', ' naveed']]\n"
     ]
    }
   ],
   "source": [
    "#extending list\n",
    "studentsList = [\"Ali\", \"Kamran\", \"Bashir\", \"Naveed\", \"Raheel\", \"Zahid\", \"Adil\"]\n",
    "print(\"Extending Lists\".center(50, \"*\"))\n",
    "print(studentsList)\n",
    "elements = input(\"Enter multiple comma-seperated items to be added in the list\").split(',')\n",
    "studentsList.append(elements)\n",
    "print(\"List after extending\\n\",studentsList)"
   ]
  },
  {
   "cell_type": "code",
   "execution_count": 53,
   "id": "6a66a497-4450-48f1-8076-4869d852b552",
   "metadata": {},
   "outputs": [
    {
     "name": "stdout",
     "output_type": "stream",
     "text": [
      "*****************Extending Lists******************\n"
     ]
    },
    {
     "name": "stdin",
     "output_type": "stream",
     "text": [
      "Enter an item to be added in the list naveed\n",
      "Enter position for the item in list from 0 to 3 4\n"
     ]
    },
    {
     "name": "stdout",
     "output_type": "stream",
     "text": [
      "List after insertion\n",
      " ['Ali', 'Kamran', 'Bashir', 'naveed']\n"
     ]
    }
   ],
   "source": [
    "#inserting item in list\n",
    "studentsList = [\"Ali\", \"Kamran\", \"Bashir\"]\n",
    "print(\"Extending Lists\".center(50, \"*\"))\n",
    "element = input(\"Enter an item to be added in the list\")\n",
    "position = int(input(f\"Enter position for the item in list from 0 to {len(studentsList)}\"))\n",
    "studentsList.insert(position, element)\n",
    "print(\"List after insertion\\n\",studentsList)"
   ]
  },
  {
   "cell_type": "code",
   "execution_count": 64,
   "id": "2f709d96-e813-4b15-91da-9904e930f509",
   "metadata": {},
   "outputs": [
    {
     "name": "stdout",
     "output_type": "stream",
     "text": [
      "*************Removing item from Lists*************\n",
      "['Ali', 'Kamran', 'Bashir']\n"
     ]
    },
    {
     "name": "stdin",
     "output_type": "stream",
     "text": [
      "Enter item to remove it from list ali\n"
     ]
    },
    {
     "name": "stdout",
     "output_type": "stream",
     "text": [
      "Item not found in the list\n"
     ]
    }
   ],
   "source": [
    "#removing item from list\n",
    "studentsList = [\"Ali\", \"Kamran\", \"Bashir\"]\n",
    "print(\"Removing item from Lists\".center(50, \"*\"))\n",
    "print(studentsList)\n",
    "item = input(f\"Enter item to remove it from list\")\n",
    "if item in studentsList:\n",
    "    studentsList.remove(item)\n",
    "    print(\"List after insertion\\n\",studentsList)\n",
    "else:\n",
    "    print(\"Item not found in the list\")"
   ]
  },
  {
   "cell_type": "code",
   "execution_count": 70,
   "id": "cb2093de-09d5-45e6-af74-0594135736b4",
   "metadata": {},
   "outputs": [
    {
     "name": "stdout",
     "output_type": "stream",
     "text": [
      "*************Removing item from Lists*************\n",
      "['Ali', 'Kamran', 'Bashir', 'Naveed', 'Raheel', 'Zahid', 'Adil']\n"
     ]
    },
    {
     "name": "stdin",
     "output_type": "stream",
     "text": [
      "Enter position to pop element from list (0 to 6) 5\n"
     ]
    },
    {
     "name": "stdout",
     "output_type": "stream",
     "text": [
      "Element popped: Zahid\n",
      "List after popping \"Zahid\"\n",
      "['Ali', 'Kamran', 'Bashir', 'Naveed', 'Raheel', 'Adil']\n"
     ]
    }
   ],
   "source": [
    "#pop item from list\n",
    "studentsList = [\"Ali\", \"Kamran\", \"Bashir\", \"Naveed\", \"Raheel\", \"Zahid\", \"Adil\"]\n",
    "print(\"Removing item from Lists\".center(50, \"*\"))\n",
    "print(studentsList)\n",
    "position = int(input(f\"Enter position to pop element from list (0 to {len(studentsList)-1})\"))\n",
    "if len(studentsList) > position:\n",
    "    element = studentsList.pop(position)\n",
    "    print(\"Element popped:\", element)\n",
    "    print(f\"List after popping \\\"{element}\\\"\")\n",
    "    print(studentsList)\n",
    "else:\n",
    "    print(\"No item found at given position\")"
   ]
  },
  {
   "cell_type": "code",
   "execution_count": 72,
   "id": "fffe73b7-0df9-437e-9186-dd1a70158604",
   "metadata": {},
   "outputs": [
    {
     "name": "stdout",
     "output_type": "stream",
     "text": [
      "******************Clearing Lists******************\n",
      "['Ali', 'Kamran', 'Bashir', 'Naveed', 'Raheel', 'Zahid', 'Adil']\n",
      "List after clear()\n",
      " []\n",
      "List after re-initializing\n",
      " ['Ali', 'Kamran', 'Bashir', 'Naveed', 'Raheel', 'Zahid', 'Adil']\n"
     ]
    }
   ],
   "source": [
    "#clear and initialize list\n",
    "studentsList = [\"Ali\", \"Kamran\", \"Bashir\", \"Naveed\", \"Raheel\", \"Zahid\", \"Adil\"]\n",
    "print(\"Clearing Lists\".center(50, \"*\"))\n",
    "print(studentsList)\n",
    "studentsList.clear()\n",
    "print(\"List after clear()\\n\",studentsList)\n",
    "studentsList = [\"Ali\", \"Kamran\", \"Bashir\", \"Naveed\", \"Raheel\", \"Zahid\", \"Adil\"]\n",
    "print(\"List after re-initializing\\n\",studentsList)"
   ]
  },
  {
   "cell_type": "code",
   "execution_count": 80,
   "id": "b0bef8eb-6306-4049-90d4-113439df53b2",
   "metadata": {},
   "outputs": [
    {
     "name": "stdout",
     "output_type": "stream",
     "text": [
      "*******Finding Index of an item from Lists********\n",
      "['Ali', 'Kamran', 'Bashir', 'Naveed', 'Adil', 'Raheel', 'Zahid', 'Adil', 'Bashir']\n"
     ]
    },
    {
     "name": "stdin",
     "output_type": "stream",
     "text": [
      "Enter element to find index of firs occurence Adil\n"
     ]
    },
    {
     "name": "stdout",
     "output_type": "stream",
     "text": [
      "First occurence of Adil at index 4\n"
     ]
    }
   ],
   "source": [
    "#find index of first occurence of an item from list\n",
    "studentsList = [\"Ali\", \"Kamran\", \"Bashir\", \"Naveed\", \"Adil\", \"Raheel\", \"Zahid\", \"Adil\", \"Bashir\"]\n",
    "print(\"Finding Index of an item from Lists\".center(50, \"*\"))\n",
    "print(studentsList)\n",
    "element = input(f\"Enter element to find index of firs occurence\")\n",
    "if element in studentsList:\n",
    "    index = studentsList.index(element)\n",
    "    print(f\"First occurence of {element} at index {index}\")\n",
    "else:\n",
    "    print(f\"Element {element} not found in the list\")"
   ]
  },
  {
   "cell_type": "code",
   "execution_count": 81,
   "id": "faa71d2b-7b83-4bc2-9d7e-74c7c3708e5d",
   "metadata": {},
   "outputs": [
    {
     "name": "stdout",
     "output_type": "stream",
     "text": [
      "*******Finding Index of an item from Lists********\n",
      "['Ali', 'Kamran', 'Bashir', 'Naveed', 'Adil', 'Raheel', 'Zahid', 'Adil', 'Bashir']\n"
     ]
    },
    {
     "name": "stdin",
     "output_type": "stream",
     "text": [
      "Enter element to count its occurences Adil\n"
     ]
    },
    {
     "name": "stdout",
     "output_type": "stream",
     "text": [
      "Frequency of Adil at index 2\n"
     ]
    }
   ],
   "source": [
    "#count occurences of an item in the list\n",
    "studentsList = [\"Ali\", \"Kamran\", \"Bashir\", \"Naveed\", \"Adil\", \"Raheel\", \"Zahid\", \"Adil\", \"Bashir\"]\n",
    "print(\"Finding Index of an item from Lists\".center(50, \"*\"))\n",
    "print(studentsList)\n",
    "element = input(f\"Enter element to count its occurences\")\n",
    "if element in studentsList:\n",
    "    frequency = studentsList.count(element)\n",
    "    print(f\"Frequency of {element} is {frequency}\")\n",
    "else:\n",
    "    print(f\"Element {element} not found in the list\")"
   ]
  },
  {
   "cell_type": "code",
   "execution_count": 83,
   "id": "441df1fa-584d-4462-b60c-05002e469f83",
   "metadata": {},
   "outputs": [
    {
     "name": "stdout",
     "output_type": "stream",
     "text": [
      "*******Finding Index of an item from Lists********\n",
      "['Ali', 'Kamran', 'Bashir', 'Naveed', 'Adil', 'Raheel', 'Zahid', 'Adil', 'Bashir']\n",
      "List after sorting\n",
      " ['Adil', 'Adil', 'Ali', 'Bashir', 'Bashir', 'Kamran', 'Naveed', 'Raheel', 'Zahid']\n",
      "List after sorting\n",
      " ['Zahid', 'Raheel', 'Naveed', 'Kamran', 'Bashir', 'Bashir', 'Ali', 'Adil', 'Adil']\n"
     ]
    }
   ],
   "source": [
    "#count occurences of an item in the list\n",
    "studentsList = [\"Ali\", \"Kamran\", \"Bashir\", \"Naveed\", \"Adil\", \"Raheel\", \"Zahid\", \"Adil\", \"Bashir\"]\n",
    "print(\"Finding Index of an item from Lists\".center(50, \"*\"))\n",
    "print(studentsList)\n",
    "studentsList.sort()\n",
    "print(\"List after sorting\\n\",studentsList)\n",
    "studentsList.reverse()\n",
    "print(\"List after sorting\\n\",studentsList)"
   ]
  },
  {
   "cell_type": "code",
   "execution_count": null,
   "id": "5f39f9f7-a228-4993-90ce-8bd0b0997011",
   "metadata": {},
   "outputs": [],
   "source": []
  }
 ],
 "metadata": {
  "kernelspec": {
   "display_name": "Python 3 (ipykernel)",
   "language": "python",
   "name": "python3"
  },
  "language_info": {
   "codemirror_mode": {
    "name": "ipython",
    "version": 3
   },
   "file_extension": ".py",
   "mimetype": "text/x-python",
   "name": "python",
   "nbconvert_exporter": "python",
   "pygments_lexer": "ipython3",
   "version": "3.11.5"
  }
 },
 "nbformat": 4,
 "nbformat_minor": 5
}
