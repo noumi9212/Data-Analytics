{
 "cells": [
  {
   "cell_type": "markdown",
   "id": "98e01e14",
   "metadata": {},
   "source": [
    "## Python Functions and Methods"
   ]
  },
  {
   "cell_type": "code",
   "execution_count": 16,
   "id": "53b22313",
   "metadata": {},
   "outputs": [],
   "source": [
    "#Define a function\n",
    "def calculateValue(a=1,b=0,c=0):\n",
    "    return a * (b + c)"
   ]
  },
  {
   "cell_type": "code",
   "execution_count": 17,
   "id": "1dd2b23e",
   "metadata": {},
   "outputs": [
    {
     "name": "stdout",
     "output_type": "stream",
     "text": [
      "18\n"
     ]
    }
   ],
   "source": [
    "#Call a Function with positional arguments\n",
    "A = calculateValue(2,4,5)\n",
    "print(A)"
   ]
  },
  {
   "cell_type": "code",
   "execution_count": 20,
   "id": "34594a65",
   "metadata": {},
   "outputs": [
    {
     "name": "stdout",
     "output_type": "stream",
     "text": [
      "17\n"
     ]
    }
   ],
   "source": [
    "#Call a Function with non-positional arguments\n",
    "A = calculateValue(b=9,c=8)\n",
    "print(A)"
   ]
  },
  {
   "cell_type": "code",
   "execution_count": 22,
   "id": "7a424ab7",
   "metadata": {},
   "outputs": [],
   "source": [
    "#Define a function to update global value\n",
    "profit = 0\n",
    "def calculateProfit(salePrice, quantity):\n",
    "    global profit\n",
    "    profit += salePrice*quantity"
   ]
  },
  {
   "cell_type": "code",
   "execution_count": 26,
   "id": "40cc098c",
   "metadata": {},
   "outputs": [
    {
     "name": "stdout",
     "output_type": "stream",
     "text": [
      "2000\n"
     ]
    }
   ],
   "source": [
    "calculateProfit(100,5)\n",
    "print(profit)"
   ]
  },
  {
   "cell_type": "markdown",
   "id": "77c5547a",
   "metadata": {},
   "source": [
    "### Lambda Expressions"
   ]
  },
  {
   "cell_type": "code",
   "execution_count": 27,
   "id": "43ad422d",
   "metadata": {},
   "outputs": [],
   "source": [
    "def sq(x):\n",
    "    return x*x"
   ]
  },
  {
   "cell_type": "code",
   "execution_count": 28,
   "id": "e012f6d2",
   "metadata": {},
   "outputs": [
    {
     "name": "stdout",
     "output_type": "stream",
     "text": [
      "4\n"
     ]
    }
   ],
   "source": [
    "x = sq(2)\n",
    "print(x)"
   ]
  },
  {
   "cell_type": "code",
   "execution_count": 29,
   "id": "22d67a75",
   "metadata": {},
   "outputs": [
    {
     "data": {
      "text/plain": [
       "<function __main__.<lambda>(y)>"
      ]
     },
     "execution_count": 29,
     "metadata": {},
     "output_type": "execute_result"
    }
   ],
   "source": [
    "lambda y: y*y"
   ]
  },
  {
   "cell_type": "markdown",
   "id": "b32fcb51",
   "metadata": {},
   "source": [
    "### Map and Filters"
   ]
  },
  {
   "cell_type": "code",
   "execution_count": 31,
   "id": "c828f0e2",
   "metadata": {},
   "outputs": [
    {
     "data": {
      "text/plain": [
       "[int, str, int, bool, str, float, int]"
      ]
     },
     "execution_count": 31,
     "metadata": {},
     "output_type": "execute_result"
    }
   ],
   "source": [
    "A = [1,\"Ali\",3,True,\"Qadeer\",6.7,7]\n",
    "list(map(type, A))"
   ]
  },
  {
   "cell_type": "code",
   "execution_count": 34,
   "id": "5e5c17cd",
   "metadata": {},
   "outputs": [
    {
     "data": {
      "text/plain": [
       "[4, 25, 64, 16, 81, 1]"
      ]
     },
     "execution_count": 34,
     "metadata": {},
     "output_type": "execute_result"
    }
   ],
   "source": [
    "numbs = [2,5,8,4,9,1]\n",
    "list(map(sq,numbs))"
   ]
  },
  {
   "cell_type": "code",
   "execution_count": 35,
   "id": "3a0b5b4d",
   "metadata": {},
   "outputs": [
    {
     "data": {
      "text/plain": [
       "[12, 15, 18, 14, 19, 11]"
      ]
     },
     "execution_count": 35,
     "metadata": {},
     "output_type": "execute_result"
    }
   ],
   "source": [
    "normalPrice = [2,5,8,4,9,1]\n",
    "list(map(lambda x: x+10, normalPrice))"
   ]
  },
  {
   "cell_type": "code",
   "execution_count": 37,
   "id": "ebc8911d",
   "metadata": {},
   "outputs": [
    {
     "data": {
      "text/plain": [
       "[0, 1, 2, 3, 4, 5, 6, 7, 8, 9, 10]"
      ]
     },
     "execution_count": 37,
     "metadata": {},
     "output_type": "execute_result"
    }
   ],
   "source": [
    "B = list(range(0,11))\n",
    "B"
   ]
  },
  {
   "cell_type": "code",
   "execution_count": 40,
   "id": "5f8710f9",
   "metadata": {},
   "outputs": [
    {
     "data": {
      "text/plain": [
       "[0, 4, 8]"
      ]
     },
     "execution_count": 40,
     "metadata": {},
     "output_type": "execute_result"
    }
   ],
   "source": [
    "C = list(filter(lambda x: x%4==0, B))\n",
    "C"
   ]
  },
  {
   "cell_type": "markdown",
   "id": "e55e0625",
   "metadata": {},
   "source": [
    "### Methods"
   ]
  },
  {
   "cell_type": "code",
   "execution_count": 47,
   "id": "cf690ed4",
   "metadata": {},
   "outputs": [],
   "source": [
    "s = \"My name is Nouman, I am software engineer\""
   ]
  },
  {
   "cell_type": "code",
   "execution_count": 48,
   "id": "d4cb5966",
   "metadata": {},
   "outputs": [
    {
     "data": {
      "text/plain": [
       "'my name is nouman, i am software engineer'"
      ]
     },
     "execution_count": 48,
     "metadata": {},
     "output_type": "execute_result"
    }
   ],
   "source": [
    "s.lower()"
   ]
  },
  {
   "cell_type": "code",
   "execution_count": 49,
   "id": "2fc4be6d",
   "metadata": {},
   "outputs": [
    {
     "data": {
      "text/plain": [
       "'MY NAME IS NOUMAN, I AM SOFTWARE ENGINEER'"
      ]
     },
     "execution_count": 49,
     "metadata": {},
     "output_type": "execute_result"
    }
   ],
   "source": [
    "s.upper()"
   ]
  },
  {
   "cell_type": "code",
   "execution_count": 50,
   "id": "6213fd25",
   "metadata": {},
   "outputs": [
    {
     "data": {
      "text/plain": [
       "'My name is nouman, i am software engineer'"
      ]
     },
     "execution_count": 50,
     "metadata": {},
     "output_type": "execute_result"
    }
   ],
   "source": [
    "s.capitalize()"
   ]
  },
  {
   "cell_type": "code",
   "execution_count": 54,
   "id": "0cb5142f",
   "metadata": {},
   "outputs": [
    {
     "data": {
      "text/plain": [
       "['My', 'name', 'is', 'Nouman,', 'I', 'am', 'software', 'engineer']"
      ]
     },
     "execution_count": 54,
     "metadata": {},
     "output_type": "execute_result"
    }
   ],
   "source": [
    "t = s.split()\n",
    "t"
   ]
  },
  {
   "cell_type": "code",
   "execution_count": 55,
   "id": "1c9953fe",
   "metadata": {},
   "outputs": [
    {
     "data": {
      "text/plain": [
       "['My name is Nouman', ' I am software engineer']"
      ]
     },
     "execution_count": 55,
     "metadata": {},
     "output_type": "execute_result"
    }
   ],
   "source": [
    "s.split(',')"
   ]
  },
  {
   "cell_type": "code",
   "execution_count": 56,
   "id": "ea8fc9d5",
   "metadata": {},
   "outputs": [
    {
     "data": {
      "text/plain": [
       "'My name is Nouman, I am software engineer'"
      ]
     },
     "execution_count": 56,
     "metadata": {},
     "output_type": "execute_result"
    }
   ],
   "source": [
    "s.strip()"
   ]
  },
  {
   "cell_type": "code",
   "execution_count": 65,
   "id": "14dd643b",
   "metadata": {},
   "outputs": [
    {
     "data": {
      "text/plain": [
       "'engineer'"
      ]
     },
     "execution_count": 65,
     "metadata": {},
     "output_type": "execute_result"
    }
   ],
   "source": [
    "t.pop()"
   ]
  },
  {
   "cell_type": "code",
   "execution_count": 66,
   "id": "0849f398",
   "metadata": {},
   "outputs": [
    {
     "data": {
      "text/plain": [
       "['My', 'name', 'is', 'Nouman,', 'I', 'am', 'software']"
      ]
     },
     "execution_count": 66,
     "metadata": {},
     "output_type": "execute_result"
    }
   ],
   "source": [
    "t"
   ]
  },
  {
   "cell_type": "code",
   "execution_count": 67,
   "id": "6ba15a0d",
   "metadata": {},
   "outputs": [
    {
     "data": {
      "text/plain": [
       "['My', 'name', 'is', 'Nouman,', 'I', 'am', 'software', 'engineer']"
      ]
     },
     "execution_count": 67,
     "metadata": {},
     "output_type": "execute_result"
    }
   ],
   "source": [
    "t.append('engineer')\n",
    "t"
   ]
  },
  {
   "cell_type": "code",
   "execution_count": 68,
   "id": "683f43f8",
   "metadata": {},
   "outputs": [
    {
     "name": "stdout",
     "output_type": "stream",
     "text": [
      "My\n",
      "name\n",
      "is\n",
      "Nouman,\n",
      "I\n",
      "am\n",
      "software\n",
      "engineer\n"
     ]
    }
   ],
   "source": [
    "for i in t:\n",
    "    print(i)"
   ]
  },
  {
   "cell_type": "code",
   "execution_count": null,
   "id": "77641e7c",
   "metadata": {},
   "outputs": [],
   "source": []
  }
 ],
 "metadata": {
  "kernelspec": {
   "display_name": "Python 3 (ipykernel)",
   "language": "python",
   "name": "python3"
  },
  "language_info": {
   "codemirror_mode": {
    "name": "ipython",
    "version": 3
   },
   "file_extension": ".py",
   "mimetype": "text/x-python",
   "name": "python",
   "nbconvert_exporter": "python",
   "pygments_lexer": "ipython3",
   "version": "3.11.5"
  }
 },
 "nbformat": 4,
 "nbformat_minor": 5
}
