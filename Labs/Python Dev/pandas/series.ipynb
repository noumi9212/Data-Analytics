{
 "cells": [
  {
   "cell_type": "code",
   "execution_count": 3,
   "metadata": {},
   "outputs": [],
   "source": [
    "import pandas as pd\n",
    "import numpy as np"
   ]
  },
  {
   "cell_type": "markdown",
   "metadata": {},
   "source": [
    "#### Declare Pandas Series"
   ]
  },
  {
   "cell_type": "code",
   "execution_count": 13,
   "metadata": {},
   "outputs": [
    {
     "name": "stdout",
     "output_type": "stream",
     "text": [
      "0    10\n",
      "1    20\n",
      "2    30\n",
      "3    40\n",
      "4    50\n",
      "5    60\n",
      "6    10\n",
      "7    30\n",
      "8    70\n",
      "dtype: int64\n"
     ]
    }
   ],
   "source": [
    "data  = [10,20,30,40,50,60,10,30,70]\n",
    "pd_series = pd.Series(data)\n",
    "print(pd_series)"
   ]
  },
  {
   "cell_type": "markdown",
   "metadata": {},
   "source": [
    "### Pandas Series Attributes\n",
    "values: Returns the Series data as a NumPy array.\n",
    "index: Returns the index (labels) of the Series.\n",
    "shape: Returns a tuple representing the dimensions of the Series.\n",
    "size: Returns the number of elements in the Series."
   ]
  },
  {
   "cell_type": "code",
   "execution_count": 14,
   "metadata": {},
   "outputs": [
    {
     "name": "stdout",
     "output_type": "stream",
     "text": [
      "[10 20 30 40 50 60 10 30 70]\n",
      "RangeIndex(start=0, stop=9, step=1)\n",
      "(9,)\n",
      "9\n"
     ]
    }
   ],
   "source": [
    "print(pd_series.values)\n",
    "print(pd_series.index)\n",
    "print(pd_series.shape)\n",
    "print(pd_series.size)"
   ]
  },
  {
   "cell_type": "markdown",
   "metadata": {},
   "source": [
    "### Pandas Series Methods\n",
    "mean(), sum(), min(), max(): Calculate summary statistics of the data.\n",
    "unique(), nunique(): Get unique values or the number of unique values.\n",
    "sort_values(), sort_index(): Sort the Series by values or index labels.\n",
    "isnull(), notnull(): Check for missing (NaN) or non-missing values.\n",
    "apply(): Apply a custom function to each element of the Series."
   ]
  },
  {
   "cell_type": "code",
   "execution_count": 20,
   "metadata": {},
   "outputs": [
    {
     "name": "stdout",
     "output_type": "stream",
     "text": [
      "mean(): 35.55555555555556\n",
      "sum(): 320\n",
      "min(): 10\n",
      "max(): 70\n",
      "unique(): [10 20 30 40 50 60 70]\n",
      "nunique(): 7\n",
      "sort_values():\n",
      " 0    10\n",
      "6    10\n",
      "1    20\n",
      "2    30\n",
      "7    30\n",
      "3    40\n",
      "4    50\n",
      "5    60\n",
      "8    70\n",
      "dtype: int64\n",
      "sort_index():\n",
      " 0    10\n",
      "1    20\n",
      "2    30\n",
      "3    40\n",
      "4    50\n",
      "5    60\n",
      "6    10\n",
      "7    30\n",
      "8    70\n",
      "dtype: int64\n",
      "isnull():\n",
      " 0    False\n",
      "1    False\n",
      "2    False\n",
      "3    False\n",
      "4    False\n",
      "5    False\n",
      "6    False\n",
      "7    False\n",
      "8    False\n",
      "dtype: bool\n",
      "notnull():\n",
      " 0    True\n",
      "1    True\n",
      "2    True\n",
      "3    True\n",
      "4    True\n",
      "5    True\n",
      "6    True\n",
      "7    True\n",
      "8    True\n",
      "dtype: bool\n"
     ]
    }
   ],
   "source": [
    "print(\"mean():\",pd_series.mean())\n",
    "print(\"sum():\",pd_series.sum())\n",
    "print(\"min():\",pd_series.min())\n",
    "print(\"max():\",pd_series.max())\n",
    "\n",
    "print(\"unique():\", pd_series.unique())\n",
    "print(\"nunique():\",pd_series.nunique())\n",
    "print(\"sort_values():\\n\",pd_series.sort_values())\n",
    "print(\"sort_index():\\n\",pd_series.sort_index())\n",
    "print(\"isnull():\\n\",pd_series.isnull())\n",
    "print(\"notnull():\\n\",pd_series.notnull())"
   ]
  },
  {
   "cell_type": "code",
   "execution_count": null,
   "metadata": {},
   "outputs": [],
   "source": []
  }
 ],
 "metadata": {
  "kernelspec": {
   "display_name": "learning",
   "language": "python",
   "name": "python3"
  },
  "language_info": {
   "codemirror_mode": {
    "name": "ipython",
    "version": 3
   },
   "file_extension": ".py",
   "mimetype": "text/x-python",
   "name": "python",
   "nbconvert_exporter": "python",
   "pygments_lexer": "ipython3",
   "version": "3.9.19"
  }
 },
 "nbformat": 4,
 "nbformat_minor": 2
}
