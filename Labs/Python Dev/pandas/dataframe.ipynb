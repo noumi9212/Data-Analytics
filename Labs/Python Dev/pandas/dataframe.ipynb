{
 "cells": [
  {
   "cell_type": "code",
   "execution_count": 1,
   "metadata": {},
   "outputs": [],
   "source": [
    "import pandas as pd"
   ]
  },
  {
   "cell_type": "code",
   "execution_count": 109,
   "metadata": {},
   "outputs": [
    {
     "name": "stdout",
     "output_type": "stream",
     "text": [
      "      Name   Age     Sex       City\n",
      "0      Ali  19.0    male     Lahore\n",
      "1   Kamran  32.0    male    Karachi\n",
      "2  Javeria  24.0    None  Islamabad\n",
      "3    Nadir  17.0  female    Karachi\n",
      "4   Qadeer   NaN    male    Karachi\n"
     ]
    }
   ],
   "source": [
    "data = {\n",
    "    'Name':['Ali', 'Kamran', 'Javeria', 'Nadir', 'Qadeer'],\n",
    "    'Age': [19,32,24,17,None],\n",
    "    'Sex': ['male', 'male', None , 'female', 'male'],\n",
    "    'City':['Lahore', 'Karachi', 'Islamabad', 'Karachi', 'Karachi']\n",
    "}\n",
    "df = pd.DataFrame(data)\n",
    "print(df)"
   ]
  },
  {
   "cell_type": "markdown",
   "metadata": {},
   "source": [
    "##### Column Selection\n",
    "###### You can select a single column from a DataFrame by specifying the column name within double brackets.Multiple columns can be selected in a similar manner, creating a new DataFrame."
   ]
  },
  {
   "cell_type": "code",
   "execution_count": 81,
   "metadata": {},
   "outputs": [
    {
     "name": "stdout",
     "output_type": "stream",
     "text": [
      "0        Ali\n",
      "1     Kamran\n",
      "2    Javeria\n",
      "3      Nadir\n",
      "4     Qadeer\n",
      "Name: Name, dtype: object\n",
      "      Name\n",
      "0      Ali\n",
      "1   Kamran\n",
      "2  Javeria\n",
      "3    Nadir\n",
      "4   Qadeer\n",
      "['Ali' 'Kamran' 'Javeria' 'Nadir' 'Qadeer']\n"
     ]
    }
   ],
   "source": [
    "#Single Column Selection without column name\n",
    "print(df['Name'])\n",
    "#Single Column Selection with column name\n",
    "print(df[['Name']])\n",
    "#Get values of all rows of a column as numpy array\n",
    "print(df['Name'].values)"
   ]
  },
  {
   "cell_type": "markdown",
   "metadata": {},
   "source": [
    "##### Accessing Rows:\n",
    "###### You can access rows by their index using .iloc[] or by label using .loc[]."
   ]
  },
  {
   "cell_type": "code",
   "execution_count": 82,
   "metadata": {},
   "outputs": [
    {
     "name": "stdout",
     "output_type": "stream",
     "text": [
      "Name      Javeria\n",
      "Age          24.0\n",
      "Sex          None\n",
      "City    Islamabad\n",
      "Name: 2, dtype: object\n",
      "Name     Kamran\n",
      "Age        32.0\n",
      "Sex        male\n",
      "City    Karachi\n",
      "Name: 1, dtype: object\n"
     ]
    }
   ],
   "source": [
    "# access 3rd row by position\n",
    "print(df.iloc[2])\n",
    "# access 2nd row by label\n",
    "print(df.iloc[1])"
   ]
  },
  {
   "cell_type": "code",
   "execution_count": 35,
   "metadata": {},
   "outputs": [
    {
     "name": "stdout",
     "output_type": "stream",
     "text": [
      "      Name  Age\n",
      "0      Ali   19\n",
      "1   Kamran   32\n",
      "2  Javeria   24\n",
      "3    Nadir   17\n",
      "      Name  Age     Sex       City\n",
      "2  Javeria   24  female  Islamabad\n",
      "3    Nadir   17    male    Karachi\n"
     ]
    }
   ],
   "source": [
    "# Select specific columns to slice dataframe / create small subset from whole dataset\n",
    "print(df[['Name', 'Age']])\n",
    "# Select specific rows\n",
    "print(df[2:4])"
   ]
  },
  {
   "cell_type": "code",
   "execution_count": 83,
   "metadata": {},
   "outputs": [
    {
     "name": "stdout",
     "output_type": "stream",
     "text": [
      "['male' None 'female']\n",
      "2\n"
     ]
    }
   ],
   "source": [
    "# find unique elements\n",
    "print(df['Sex'].unique())\n",
    "print(df['Sex'].nunique())\n"
   ]
  },
  {
   "cell_type": "markdown",
   "metadata": {},
   "source": [
    "##### Conditional Filtering:\n",
    "###### You can filter data in a DataFrame based on conditions using inequality operators. For instance, you can filter albums released after a certain year."
   ]
  },
  {
   "cell_type": "code",
   "execution_count": 86,
   "metadata": {},
   "outputs": [
    {
     "data": {
      "text/plain": [
       "0    male\n",
       "Name: Sex, dtype: object"
      ]
     },
     "execution_count": 86,
     "metadata": {},
     "output_type": "execute_result"
    }
   ],
   "source": [
    "# Filter age column to get records of above 20 age\n",
    "above_20 = df[df['Age'] > 20]\n",
    "above_20"
   ]
  },
  {
   "cell_type": "markdown",
   "metadata": {},
   "source": [
    "##### DataFrame Attributes and Methods\n",
    "###### DataFrames provide numerous attributes and methods for data manipulation and analysis, including:\n",
    "    shape: Returns the dimensions (number of rows and columns) of the DataFrame.\n",
    "    info(): Provides a summary of the DataFrame, including data types and non-null counts.\n",
    "    describe(): Generates summary statistics for numerical columns.\n",
    "    head(), tail(): Displays the first or last n rows of the DataFrame.\n",
    "    mean(), sum(), min(), max(): Calculate summary statistics for columns.\n",
    "    sort_values(): Sort the DataFrame by one or more columns.\n",
    "    groupby(): Group data based on specific columns for aggregation.\n",
    "    fillna(), drop(), rename(): Handle missing values, drop columns, or rename columns.\n",
    "    apply(): Apply a function to each element, row, or column of the DataFrame."
   ]
  },
  {
   "cell_type": "code",
   "execution_count": 110,
   "metadata": {},
   "outputs": [
    {
     "name": "stdout",
     "output_type": "stream",
     "text": [
      "<class 'pandas.core.frame.DataFrame'>\n",
      "RangeIndex: 5 entries, 0 to 4\n",
      "Data columns (total 4 columns):\n",
      " #   Column  Non-Null Count  Dtype  \n",
      "---  ------  --------------  -----  \n",
      " 0   Name    5 non-null      object \n",
      " 1   Age     4 non-null      float64\n",
      " 2   Sex     4 non-null      object \n",
      " 3   City    5 non-null      object \n",
      "dtypes: float64(1), object(3)\n",
      "memory usage: 288.0+ bytes\n",
      "missing Values\n",
      " Name    0\n",
      "Age     1\n",
      "Sex     1\n",
      "City    0\n",
      "dtype: int64\n",
      "missing Values after cleansing\n",
      " Name    0\n",
      "Age     0\n",
      "Sex     0\n",
      "City    0\n",
      "dtype: int64\n"
     ]
    }
   ],
   "source": [
    "df.info()\n",
    "#check missing values\n",
    "print('missing Values\\n', df.isnull().sum())\n",
    "# fill missing vlues of age by mean value\n",
    "df['Age'] = df['Age'].fillna(df['Age'].mean())\n",
    "# fill missing vlues of sex by mode value\n",
    "df['Sex'] = df['Sex'].fillna(df['Sex'].mode()[0])\n",
    "print('missing Values after cleansing\\n', df.isnull().sum())\n"
   ]
  },
  {
   "cell_type": "code",
   "execution_count": 43,
   "metadata": {},
   "outputs": [
    {
     "name": "stdout",
     "output_type": "stream",
     "text": [
      "Dataset Dimensions (rows, cols): (4, 4)\n",
      "Mean Age: 23.0\n",
      "Minimun Age: 17\n",
      "Maximum Age: 32\n",
      "Before:\n",
      "       Name  Age     Sex       City\n",
      "0      Ali   19    male     Lahore\n",
      "1   Kamran   32    male    Karachi\n",
      "2  Javeria   24  female  Islamabad\n",
      "3    Nadir   17    male    Karachi\n",
      "After:\n",
      "       Name  Age     Sex       City\n",
      "1   Kamran   32    male    Karachi\n",
      "2  Javeria   24  female  Islamabad\n",
      "0      Ali   19    male     Lahore\n",
      "3    Nadir   17    male    Karachi\n"
     ]
    }
   ],
   "source": [
    "# check number of columns and rows in dataset\n",
    "print('Dataset Dimensions (rows, cols):',df.shape)\n",
    "# calculate mean, min and max of a column named 'Age'\n",
    "print('Mean Age:',df['Age'].mean())\n",
    "print('Minimun Age:',df['Age'].min())\n",
    "print('Maximum Age:',df['Age'].max())\n",
    "# sort dataset w.r.t column 'Age' in decending order\n",
    "print('Before:\\n', df)\n",
    "df = df.sort_values(by=['Age'], ascending=False)\n",
    "print('After:\\n', df)\n",
    "#print(df['Age'].sort_values(ascending=False))\n"
   ]
  },
  {
   "cell_type": "code",
   "execution_count": 53,
   "metadata": {},
   "outputs": [
    {
     "name": "stdout",
     "output_type": "stream",
     "text": [
      "        Name  Age  City\n",
      "Sex                    \n",
      "female     1    1     1\n",
      "male       3    3     3\n",
      "        City\n",
      "Sex         \n",
      "female     1\n",
      "male       3\n"
     ]
    }
   ],
   "source": [
    "print(df.groupby(['Sex']).count())\n",
    "print(df.groupby('Sex')[['City']].count())"
   ]
  },
  {
   "cell_type": "code",
   "execution_count": 66,
   "metadata": {},
   "outputs": [
    {
     "name": "stdout",
     "output_type": "stream",
     "text": [
      "Total males: 3\n",
      "Males in Karachi: 2\n"
     ]
    }
   ],
   "source": [
    "# get number of males living in Karachi\n",
    "print('Total males:', df['Sex'].value_counts()['male'])\n",
    "print('Males in Karachi:', \n",
    "      df.query(\"Sex=='male' & City=='Karachi'\")[\"City\"].count())\n"
   ]
  },
  {
   "cell_type": "code",
   "execution_count": null,
   "metadata": {},
   "outputs": [],
   "source": []
  }
 ],
 "metadata": {
  "kernelspec": {
   "display_name": "api_lesson",
   "language": "python",
   "name": "python3"
  },
  "language_info": {
   "codemirror_mode": {
    "name": "ipython",
    "version": 3
   },
   "file_extension": ".py",
   "mimetype": "text/x-python",
   "name": "python",
   "nbconvert_exporter": "python",
   "pygments_lexer": "ipython3",
   "version": "3.9.19"
  }
 },
 "nbformat": 4,
 "nbformat_minor": 2
}
